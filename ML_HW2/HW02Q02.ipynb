{
 "cells": [
  {
   "cell_type": "code",
   "execution_count": 15,
   "metadata": {},
   "outputs": [],
   "source": [
    "import numpy as np\n",
    "import pandas as pd\n",
    "from matplotlib import pyplot as plt\n",
    "from sklearn.model_selection import KFold\n",
    "import random"
   ]
  },
  {
   "cell_type": "code",
   "execution_count": 16,
   "metadata": {},
   "outputs": [],
   "source": [
    "df = pd.read_excel('F://Uni/991/Machine_Learning/ML_HW2/Dataset/2- Regression/regression.xlsx')"
   ]
  },
  {
   "cell_type": "code",
   "execution_count": 17,
   "metadata": {},
   "outputs": [],
   "source": [
    "#df.head()"
   ]
  },
  {
   "cell_type": "code",
   "execution_count": 18,
   "metadata": {},
   "outputs": [],
   "source": [
    "xdata = np.array(df)\n",
    "idx = int(0.7*xdata.shape[0])\n",
    "x_train = xdata[0:idx,:]\n",
    "y_train = np.expand_dims(x_train[:,x_train.shape[1]-1],1)\n",
    "x_train = x_train[:,0:-1]\n",
    "x_test = xdata[idx:,:]\n",
    "y_test = np.expand_dims(x_test[:,x_test.shape[1]-1],1)\n",
    "x_test = x_test[:,0:-1]"
   ]
  },
  {
   "cell_type": "code",
   "execution_count": 19,
   "metadata": {},
   "outputs": [],
   "source": [
    "\n",
    "def Normalize(n, x):\n",
    "    norm_x = x\n",
    "    for i in range(0,n):\n",
    "        min_x = np.amin(x[:,i])\n",
    "        max_x = np.amax(x[:,i])\n",
    "        norm_x[:,i] = (x[:,i] - min_x)/(max_x - min_x)\n",
    "    return norm_x"
   ]
  },
  {
   "cell_type": "code",
   "execution_count": 20,
   "metadata": {},
   "outputs": [],
   "source": [
    "\n",
    "def Euclidean(test1, train1):\n",
    "    distance1 = np.sum(((test1-train1)**2), axis = 1)\n",
    "    return np.sqrt(distance1)"
   ]
  },
  {
   "cell_type": "code",
   "execution_count": 21,
   "metadata": {},
   "outputs": [],
   "source": [
    "\n",
    "def ComputeMSE(y, y_pred, m):\n",
    "    mse = (1/m) * np.sum(np.power(y_pred - y, 2))\n",
    "    return mse"
   ]
  },
  {
   "cell_type": "code",
   "execution_count": 22,
   "metadata": {},
   "outputs": [],
   "source": [
    "def get_neighbors(train2, ytrain2, test_row2, k2):\n",
    "    dist2 = Euclidean(test_row2, train2)\n",
    "    othery = ytrain2[np.argsort(dist2),0]\n",
    "    neighbors_y = othery[0:k2]\n",
    "    return neighbors_y"
   ]
  },
  {
   "cell_type": "code",
   "execution_count": 23,
   "metadata": {},
   "outputs": [],
   "source": [
    "def predict(train3, ytrain3, test_row3, k3):\n",
    "    neighbors = get_neighbors(train3, ytrain3, test_row3, k3)\n",
    "    prediction = np.mean(neighbors)\n",
    "    return prediction"
   ]
  },
  {
   "cell_type": "code",
   "execution_count": 24,
   "metadata": {},
   "outputs": [],
   "source": [
    "def KNNRegression(train4, ytrain4, test4, k4):\n",
    "    prediction1 = np.zeros((test4.shape[0],1))\n",
    "    for i in range(test4.shape[0]):\n",
    "        prediction1[i,0] = predict(train4, ytrain4, test4[i,:], k4)\n",
    "    return prediction1"
   ]
  },
  {
   "cell_type": "code",
   "execution_count": 25,
   "metadata": {},
   "outputs": [],
   "source": [
    "def FindK(train5, ytrain5, test5, y5):\n",
    "    mse = list()\n",
    "    ks = np.arange(1, train5.shape[0], 2)\n",
    "    for k in ks:\n",
    "        prediction2 = KNNRegression(train5, ytrain5, test5, k)\n",
    "        mse.append(ComputeMSE(y5, prediction2, test5.shape[0]))\n",
    "    plt.plot(np.arange(1, train5.shape[0], 2),mse)\n",
    "    plt.xlabel('K')\n",
    "    plt.ylabel('MSE')\n",
    "    plt.title('K-MSE (Finding the Best K)')\n",
    "    plt.show()\n",
    "    index = mse.index(min(mse))\n",
    "    return ks[index]"
   ]
  },
  {
   "cell_type": "code",
   "execution_count": 26,
   "metadata": {},
   "outputs": [
    {
     "data": {
      "image/png": "[encoded data removed]",
      "text/plain": [
       "<Figure size 432x288 with 1 Axes>"
      ]
     },
     "metadata": {},
     "output_type": "display_data"
    },
    {
     "name": "stdout",
     "output_type": "stream",
     "text": [
      "Best K: 25\n"
     ]
    }
   ],
   "source": [
    "x_train = Normalize(x_train.shape[1],x_train)\n",
    "x_test = Normalize(x_test.shape[1],x_test)\n",
    "k = FindK(x_train, y_train, x_test, y_test)\n",
    "print(\"Best K:\", k)"
   ]
  },
  {
   "cell_type": "code",
   "execution_count": 30,
   "metadata": {},
   "outputs": [
    {
     "name": "stdout",
     "output_type": "stream",
     "text": [
      "MSE for Test Data:  61.20864960000001\n"
     ]
    }
   ],
   "source": [
    "prediction1 = KNNRegression(x_train,y_train ,x_test, k)\n",
    "#print(prediction1)\n",
    "print(\"MSE for Test Data: \", ComputeMSE(y_test, prediction1, x_test.shape[0]))"
   ]
  },
  {
   "cell_type": "code",
   "execution_count": 31,
   "metadata": {},
   "outputs": [
    {
     "name": "stdout",
     "output_type": "stream",
     "text": [
      "MSE for Training Data:  70.42133370242215\n"
     ]
    }
   ],
   "source": [
    "prediction1 = KNNRegression(x_train,y_train ,x_train, k)\n",
    "#print(prediction1)\n",
    "print(\"MSE for Training Data: \", ComputeMSE(y_train, prediction1, x_train.shape[0]))"
   ]
  },
  {
   "cell_type": "code",
   "execution_count": null,
   "metadata": {},
   "outputs": [],
   "source": []
  }
 ],
 "metadata": {
  "kernelspec": {
   "display_name": "Python 3",
   "language": "python",
   "name": "python3"
  },
  "language_info": {
   "codemirror_mode": {
    "name": "ipython",
    "version": 3
   },
   "file_extension": ".py",
   "mimetype": "text/x-python",
   "name": "python",
   "nbconvert_exporter": "python",
   "pygments_lexer": "ipython3",
   "version": "3.6.5"
  }
 },
 "nbformat": 4,
 "nbformat_minor": 2
}
