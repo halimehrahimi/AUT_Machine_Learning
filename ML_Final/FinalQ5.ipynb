{
 "cells": [
  {
   "cell_type": "code",
   "execution_count": 1,
   "metadata": {},
   "outputs": [],
   "source": [
    "import numpy as np\n",
    "import pandas as pd\n",
    "import matplotlib.pyplot as plt\n",
    "from sklearn.linear_model import LogisticRegression\n",
    "from sklearn.preprocessing import MinMaxScaler\n",
    "from sklearn.model_selection import KFold"
   ]
  },
  {
   "cell_type": "code",
   "execution_count": 2,
   "metadata": {},
   "outputs": [
    {
     "data": {
      "text/html": [
       "<div>\n",
       "<style scoped>\n",
       "    .dataframe tbody tr th:only-of-type {\n",
       "        vertical-align: middle;\n",
       "    }\n",
       "\n",
       "    .dataframe tbody tr th {\n",
       "        vertical-align: top;\n",
       "    }\n",
       "\n",
       "    .dataframe thead th {\n",
       "        text-align: right;\n",
       "    }\n",
       "</style>\n",
       "<table border=\"1\" class=\"dataframe\">\n",
       "  <thead>\n",
       "    <tr style=\"text-align: right;\">\n",
       "      <th></th>\n",
       "      <th>age</th>\n",
       "      <th>anaemia</th>\n",
       "      <th>creatinine_phosphokinase</th>\n",
       "      <th>diabetes</th>\n",
       "      <th>ejection_fraction</th>\n",
       "      <th>high_blood_pressure</th>\n",
       "      <th>platelets</th>\n",
       "      <th>serum_creatinine</th>\n",
       "      <th>serum_sodium</th>\n",
       "      <th>sex</th>\n",
       "      <th>smoking</th>\n",
       "      <th>time</th>\n",
       "      <th>DEATH_EVENT</th>\n",
       "    </tr>\n",
       "  </thead>\n",
       "  <tbody>\n",
       "    <tr>\n",
       "      <th>0</th>\n",
       "      <td>75</td>\n",
       "      <td>0</td>\n",
       "      <td>582</td>\n",
       "      <td>0</td>\n",
       "      <td>20</td>\n",
       "      <td>1</td>\n",
       "      <td>265000</td>\n",
       "      <td>1.9</td>\n",
       "      <td>130</td>\n",
       "      <td>1</td>\n",
       "      <td>0</td>\n",
       "      <td>4</td>\n",
       "      <td>1</td>\n",
       "    </tr>\n",
       "    <tr>\n",
       "      <th>1</th>\n",
       "      <td>55</td>\n",
       "      <td>0</td>\n",
       "      <td>7861</td>\n",
       "      <td>0</td>\n",
       "      <td>38</td>\n",
       "      <td>0</td>\n",
       "      <td>263358.03</td>\n",
       "      <td>1.1</td>\n",
       "      <td>136</td>\n",
       "      <td>1</td>\n",
       "      <td>0</td>\n",
       "      <td>6</td>\n",
       "      <td>1</td>\n",
       "    </tr>\n",
       "    <tr>\n",
       "      <th>2</th>\n",
       "      <td>65</td>\n",
       "      <td>0</td>\n",
       "      <td>146</td>\n",
       "      <td>0</td>\n",
       "      <td>20</td>\n",
       "      <td>0</td>\n",
       "      <td>162000</td>\n",
       "      <td>1.3</td>\n",
       "      <td>129</td>\n",
       "      <td>1</td>\n",
       "      <td>1</td>\n",
       "      <td>7</td>\n",
       "      <td>1</td>\n",
       "    </tr>\n",
       "    <tr>\n",
       "      <th>3</th>\n",
       "      <td>50</td>\n",
       "      <td>1</td>\n",
       "      <td>111</td>\n",
       "      <td>0</td>\n",
       "      <td>20</td>\n",
       "      <td>0</td>\n",
       "      <td>210000</td>\n",
       "      <td>1.9</td>\n",
       "      <td>137</td>\n",
       "      <td>1</td>\n",
       "      <td>0</td>\n",
       "      <td>7</td>\n",
       "      <td>1</td>\n",
       "    </tr>\n",
       "    <tr>\n",
       "      <th>4</th>\n",
       "      <td>65</td>\n",
       "      <td>1</td>\n",
       "      <td>160</td>\n",
       "      <td>1</td>\n",
       "      <td>20</td>\n",
       "      <td>0</td>\n",
       "      <td>327000</td>\n",
       "      <td>2.7</td>\n",
       "      <td>116</td>\n",
       "      <td>0</td>\n",
       "      <td>0</td>\n",
       "      <td>8</td>\n",
       "      <td>1</td>\n",
       "    </tr>\n",
       "  </tbody>\n",
       "</table>\n",
       "</div>"
      ],
      "text/plain": [
       "  age anaemia creatinine_phosphokinase diabetes ejection_fraction  \\\n",
       "0  75       0                      582        0                20   \n",
       "1  55       0                     7861        0                38   \n",
       "2  65       0                      146        0                20   \n",
       "3  50       1                      111        0                20   \n",
       "4  65       1                      160        1                20   \n",
       "\n",
       "   high_blood_pressure  platelets serum_creatinine serum_sodium sex smoking  \\\n",
       "0                    1     265000              1.9          130   1       0   \n",
       "1                    0  263358.03              1.1          136   1       0   \n",
       "2                    0     162000              1.3          129   1       1   \n",
       "3                    0     210000              1.9          137   1       0   \n",
       "4                    0     327000              2.7          116   0       0   \n",
       "\n",
       "  time  DEATH_EVENT  \n",
       "0    4            1  \n",
       "1    6            1  \n",
       "2    7            1  \n",
       "3    7            1  \n",
       "4    8            1  "
      ]
     },
     "execution_count": 2,
     "metadata": {},
     "output_type": "execute_result"
    }
   ],
   "source": [
    "df = pd.read_csv('F://Uni/991/Machine_Learning/ML_991_Final/Dataset/5/heart_failure_clinical_records_dataset.csv')\n",
    "df.head()"
   ]
  },
  {
   "cell_type": "markdown",
   "metadata": {},
   "source": [
    "# Understanding what are missing"
   ]
  },
  {
   "cell_type": "code",
   "execution_count": 3,
   "metadata": {},
   "outputs": [],
   "source": [
    "#The reason for reindexing can be found in the report\n",
    "#Creating new index\n",
    "newindex = np.append(np.where(df.DEATH_EVENT==1),np.where(df.DEATH_EVENT==0))\n",
    "#reindexing the dataframe\n",
    "df = df.reindex(newindex).reset_index(drop=True)"
   ]
  },
  {
   "cell_type": "code",
   "execution_count": 4,
   "metadata": {},
   "outputs": [
    {
     "name": "stdout",
     "output_type": "stream",
     "text": [
      "Dataset Size:\n",
      " (300, 13)\n",
      "\n",
      "Number of missing values:\n",
      " 32\n",
      "Indices of missing values:\n",
      "row number:  [ 17  18  24  31  34  45  89  89  89  89  89  96  96  96  96  96  96  96\n",
      " 223 223 227 230 242 242 242 242 242 274 274 274 274 286] \n",
      "column number:  [ 2  8  3  9  6  0  2  4  6  7  8  1  2  3  6  7  9 10  7  8  4 11  2  4\n",
      "  6  8 11  4  6  7 11  2]\n",
      "\n",
      "Number of rows with missing values:\n",
      " 14\n",
      "Number of missing values in each row with missing values:\n",
      " [1, 1, 1, 1, 1, 1, 5, 7, 2, 1, 1, 5, 4, 1]\n",
      "\n",
      "Number of columns with missing values:\n",
      " 11\n",
      "Number of missing values in each column with missing values:\n",
      " [1, 1, 5, 2, 4, 5, 4, 4, 2, 1, 3]\n",
      "\n",
      "Number of each class data points:\n",
      " DEATH_EVENT\n",
      "0    203\n",
      "1     97\n",
      "Name: age, dtype: int64\n",
      "Class of rows with missing values:\n",
      " 17     1\n",
      "18     1\n",
      "24     1\n",
      "31     1\n",
      "34     1\n",
      "45     1\n",
      "89     1\n",
      "96     1\n",
      "223    0\n",
      "227    0\n",
      "230    0\n",
      "242    0\n",
      "274    0\n",
      "286    0\n",
      "Name: DEATH_EVENT, dtype: int64\n"
     ]
    }
   ],
   "source": [
    "#Understanding the missing data\n",
    "print('Dataset Size:\\n', df.shape)\n",
    "print('\\nNumber of missing values:\\n', np.where(df=='?')[0].size)\n",
    "print('Indices of missing values:\\nrow number: ', np.where(df=='?')[0], '\\ncolumn number: ', np.where(df=='?')[1])\n",
    "print('\\nNumber of rows with missing values:\\n', np.unique(np.where(df=='?')[0]).size)\n",
    "nlist = list()\n",
    "for n in np.unique(np.where(df=='?')[0]):\n",
    "    nlist.append(len(np.where(np.where(df=='?')[0]==n)[0]))\n",
    "print('Number of missing values in each row with missing values:\\n', nlist)\n",
    "print('\\nNumber of columns with missing values:\\n', np.unique(np.where(df=='?')[1]).size)\n",
    "nlist = list()\n",
    "for n in np.unique(np.where(df=='?')[1]):\n",
    "    nlist.append(len(np.where(np.where(df=='?')[1]==n)[0]))\n",
    "print('Number of missing values in each column with missing values:\\n', nlist)\n",
    "print('\\nNumber of each class data points:\\n', df.groupby('DEATH_EVENT').count()['age'])\n",
    "print('Class of rows with missing values:\\n', df.loc[np.unique(np.where(df=='?')[0]),'DEATH_EVENT'])"
   ]
  },
  {
   "cell_type": "markdown",
   "metadata": {},
   "source": [
    "# Dealing with the missing values"
   ]
  },
  {
   "cell_type": "code",
   "execution_count": 5,
   "metadata": {},
   "outputs": [
    {
     "name": "stdout",
     "output_type": "stream",
     "text": [
      "\n",
      "Number of values equal to 1000:\n",
      " 0\n"
     ]
    }
   ],
   "source": [
    "# Just checking if number 1000 exists in the dataframe\n",
    "# The issue was that the features that included missing values were not type float\n",
    "# This was the way I thought of correcting this\n",
    "print('\\nNumber of values equal to 1000:\\n', np.where(df==1000)[0].size)"
   ]
  },
  {
   "cell_type": "code",
   "execution_count": 6,
   "metadata": {},
   "outputs": [],
   "source": [
    "# Replace ? with 1000, change the type, replace 1000 with nan and fill the missing values\n",
    "df = df.replace('?', 1000).astype(float)\n",
    "df = df.replace(1000, np.nan)\n",
    "df = df.fillna(method='ffill')"
   ]
  },
  {
   "cell_type": "code",
   "execution_count": 7,
   "metadata": {},
   "outputs": [
    {
     "name": "stdout",
     "output_type": "stream",
     "text": [
      "Checking if the missing values have been filled\n",
      "df 18 creatinine_phosphokinase:  582.0\n",
      "df 35 sex:  1.0\n"
     ]
    }
   ],
   "source": [
    "# Checking if the missing values have been filled\n",
    "print('Checking if the missing values have been filled')\n",
    "print('df 18 creatinine_phosphokinase: ', df.loc[18,'creatinine_phosphokinase'])\n",
    "print('df 35 sex: ', df.loc[35,'sex'])"
   ]
  },
  {
   "cell_type": "markdown",
   "metadata": {},
   "source": [
    "# Preparing Data"
   ]
  },
  {
   "cell_type": "code",
   "execution_count": 8,
   "metadata": {},
   "outputs": [],
   "source": [
    "# Normalizing the Data\n",
    "df_norm = pd.DataFrame(MinMaxScaler().fit_transform(df),columns=df.columns)\n",
    "# Preparing the Data\n",
    "xdf_norm = df_norm.drop(columns=['DEATH_EVENT'])\n",
    "ydf_norm = df_norm['DEATH_EVENT']"
   ]
  },
  {
   "cell_type": "code",
   "execution_count": 9,
   "metadata": {},
   "outputs": [],
   "source": [
    "# Using KFold Cross Validation\n",
    "kf = KFold(n_splits=5, shuffle=True, random_state=0)"
   ]
  },
  {
   "cell_type": "markdown",
   "metadata": {},
   "source": [
    "# Choosing best k features"
   ]
  },
  {
   "cell_type": "code",
   "execution_count": 10,
   "metadata": {},
   "outputs": [],
   "source": [
    "# Computing Absolute Correlation between the Features\n",
    "betweencorr=abs(xdf_norm.corr())\n",
    "# Computing Absolute Correlation between the Features and the Output\n",
    "outputcorr = abs(xdf_norm.corrwith(ydf_norm))\n",
    "#Setting the Threshold\n",
    "threshold=0.4"
   ]
  },
  {
   "cell_type": "code",
   "execution_count": 11,
   "metadata": {},
   "outputs": [
    {
     "data": {
      "text/html": [
       "<div>\n",
       "<style scoped>\n",
       "    .dataframe tbody tr th:only-of-type {\n",
       "        vertical-align: middle;\n",
       "    }\n",
       "\n",
       "    .dataframe tbody tr th {\n",
       "        vertical-align: top;\n",
       "    }\n",
       "\n",
       "    .dataframe thead th {\n",
       "        text-align: right;\n",
       "    }\n",
       "</style>\n",
       "<table border=\"1\" class=\"dataframe\">\n",
       "  <thead>\n",
       "    <tr style=\"text-align: right;\">\n",
       "      <th></th>\n",
       "      <th>age</th>\n",
       "      <th>anaemia</th>\n",
       "      <th>creatinine_phosphokinase</th>\n",
       "      <th>diabetes</th>\n",
       "      <th>ejection_fraction</th>\n",
       "      <th>high_blood_pressure</th>\n",
       "      <th>platelets</th>\n",
       "      <th>serum_creatinine</th>\n",
       "      <th>serum_sodium</th>\n",
       "      <th>sex</th>\n",
       "      <th>smoking</th>\n",
       "      <th>time</th>\n",
       "    </tr>\n",
       "  </thead>\n",
       "  <tbody>\n",
       "    <tr>\n",
       "      <th>age</th>\n",
       "      <td>1.000000</td>\n",
       "      <td>0.088265</td>\n",
       "      <td>0.080617</td>\n",
       "      <td>0.113457</td>\n",
       "      <td>0.042312</td>\n",
       "      <td>0.095094</td>\n",
       "      <td>0.047062</td>\n",
       "      <td>0.176480</td>\n",
       "      <td>0.077595</td>\n",
       "      <td>0.062955</td>\n",
       "      <td>0.022594</td>\n",
       "      <td>0.219105</td>\n",
       "    </tr>\n",
       "    <tr>\n",
       "      <th>anaemia</th>\n",
       "      <td>0.088265</td>\n",
       "      <td>1.000000</td>\n",
       "      <td>0.191722</td>\n",
       "      <td>0.004375</td>\n",
       "      <td>0.038211</td>\n",
       "      <td>0.040231</td>\n",
       "      <td>0.048355</td>\n",
       "      <td>0.079922</td>\n",
       "      <td>0.073648</td>\n",
       "      <td>0.096696</td>\n",
       "      <td>0.110981</td>\n",
       "      <td>0.145386</td>\n",
       "    </tr>\n",
       "    <tr>\n",
       "      <th>creatinine_phosphokinase</th>\n",
       "      <td>0.080617</td>\n",
       "      <td>0.191722</td>\n",
       "      <td>1.000000</td>\n",
       "      <td>0.010825</td>\n",
       "      <td>0.048141</td>\n",
       "      <td>0.067040</td>\n",
       "      <td>0.024412</td>\n",
       "      <td>0.013957</td>\n",
       "      <td>0.056520</td>\n",
       "      <td>0.079755</td>\n",
       "      <td>0.005155</td>\n",
       "      <td>0.009669</td>\n",
       "    </tr>\n",
       "    <tr>\n",
       "      <th>diabetes</th>\n",
       "      <td>0.113457</td>\n",
       "      <td>0.004375</td>\n",
       "      <td>0.010825</td>\n",
       "      <td>1.000000</td>\n",
       "      <td>0.010415</td>\n",
       "      <td>0.019869</td>\n",
       "      <td>0.085329</td>\n",
       "      <td>0.036826</td>\n",
       "      <td>0.058290</td>\n",
       "      <td>0.164627</td>\n",
       "      <td>0.160540</td>\n",
       "      <td>0.038017</td>\n",
       "    </tr>\n",
       "    <tr>\n",
       "      <th>ejection_fraction</th>\n",
       "      <td>0.042312</td>\n",
       "      <td>0.038211</td>\n",
       "      <td>0.048141</td>\n",
       "      <td>0.010415</td>\n",
       "      <td>1.000000</td>\n",
       "      <td>0.029327</td>\n",
       "      <td>0.077699</td>\n",
       "      <td>0.003983</td>\n",
       "      <td>0.198782</td>\n",
       "      <td>0.146988</td>\n",
       "      <td>0.061032</td>\n",
       "      <td>0.045391</td>\n",
       "    </tr>\n",
       "    <tr>\n",
       "      <th>high_blood_pressure</th>\n",
       "      <td>0.095094</td>\n",
       "      <td>0.040231</td>\n",
       "      <td>0.067040</td>\n",
       "      <td>0.019869</td>\n",
       "      <td>0.029327</td>\n",
       "      <td>1.000000</td>\n",
       "      <td>0.050550</td>\n",
       "      <td>0.025316</td>\n",
       "      <td>0.037437</td>\n",
       "      <td>0.106227</td>\n",
       "      <td>0.059016</td>\n",
       "      <td>0.199418</td>\n",
       "    </tr>\n",
       "    <tr>\n",
       "      <th>platelets</th>\n",
       "      <td>0.047062</td>\n",
       "      <td>0.048355</td>\n",
       "      <td>0.024412</td>\n",
       "      <td>0.085329</td>\n",
       "      <td>0.077699</td>\n",
       "      <td>0.050550</td>\n",
       "      <td>1.000000</td>\n",
       "      <td>0.026894</td>\n",
       "      <td>0.031429</td>\n",
       "      <td>0.118981</td>\n",
       "      <td>0.030165</td>\n",
       "      <td>0.008613</td>\n",
       "    </tr>\n",
       "    <tr>\n",
       "      <th>serum_creatinine</th>\n",
       "      <td>0.176480</td>\n",
       "      <td>0.079922</td>\n",
       "      <td>0.013957</td>\n",
       "      <td>0.036826</td>\n",
       "      <td>0.003983</td>\n",
       "      <td>0.025316</td>\n",
       "      <td>0.026894</td>\n",
       "      <td>1.000000</td>\n",
       "      <td>0.168982</td>\n",
       "      <td>0.008371</td>\n",
       "      <td>0.053816</td>\n",
       "      <td>0.215189</td>\n",
       "    </tr>\n",
       "    <tr>\n",
       "      <th>serum_sodium</th>\n",
       "      <td>0.077595</td>\n",
       "      <td>0.073648</td>\n",
       "      <td>0.056520</td>\n",
       "      <td>0.058290</td>\n",
       "      <td>0.198782</td>\n",
       "      <td>0.037437</td>\n",
       "      <td>0.031429</td>\n",
       "      <td>0.168982</td>\n",
       "      <td>1.000000</td>\n",
       "      <td>0.051992</td>\n",
       "      <td>0.006964</td>\n",
       "      <td>0.069028</td>\n",
       "    </tr>\n",
       "    <tr>\n",
       "      <th>sex</th>\n",
       "      <td>0.062955</td>\n",
       "      <td>0.096696</td>\n",
       "      <td>0.079755</td>\n",
       "      <td>0.164627</td>\n",
       "      <td>0.146988</td>\n",
       "      <td>0.106227</td>\n",
       "      <td>0.118981</td>\n",
       "      <td>0.008371</td>\n",
       "      <td>0.051992</td>\n",
       "      <td>1.000000</td>\n",
       "      <td>0.447479</td>\n",
       "      <td>0.011471</td>\n",
       "    </tr>\n",
       "    <tr>\n",
       "      <th>smoking</th>\n",
       "      <td>0.022594</td>\n",
       "      <td>0.110981</td>\n",
       "      <td>0.005155</td>\n",
       "      <td>0.160540</td>\n",
       "      <td>0.061032</td>\n",
       "      <td>0.059016</td>\n",
       "      <td>0.030165</td>\n",
       "      <td>0.053816</td>\n",
       "      <td>0.006964</td>\n",
       "      <td>0.447479</td>\n",
       "      <td>1.000000</td>\n",
       "      <td>0.014666</td>\n",
       "    </tr>\n",
       "    <tr>\n",
       "      <th>time</th>\n",
       "      <td>0.219105</td>\n",
       "      <td>0.145386</td>\n",
       "      <td>0.009669</td>\n",
       "      <td>0.038017</td>\n",
       "      <td>0.045391</td>\n",
       "      <td>0.199418</td>\n",
       "      <td>0.008613</td>\n",
       "      <td>0.215189</td>\n",
       "      <td>0.069028</td>\n",
       "      <td>0.011471</td>\n",
       "      <td>0.014666</td>\n",
       "      <td>1.000000</td>\n",
       "    </tr>\n",
       "  </tbody>\n",
       "</table>\n",
       "</div>"
      ],
      "text/plain": [
       "                               age   anaemia  creatinine_phosphokinase  \\\n",
       "age                       1.000000  0.088265                  0.080617   \n",
       "anaemia                   0.088265  1.000000                  0.191722   \n",
       "creatinine_phosphokinase  0.080617  0.191722                  1.000000   \n",
       "diabetes                  0.113457  0.004375                  0.010825   \n",
       "ejection_fraction         0.042312  0.038211                  0.048141   \n",
       "high_blood_pressure       0.095094  0.040231                  0.067040   \n",
       "platelets                 0.047062  0.048355                  0.024412   \n",
       "serum_creatinine          0.176480  0.079922                  0.013957   \n",
       "serum_sodium              0.077595  0.073648                  0.056520   \n",
       "sex                       0.062955  0.096696                  0.079755   \n",
       "smoking                   0.022594  0.110981                  0.005155   \n",
       "time                      0.219105  0.145386                  0.009669   \n",
       "\n",
       "                          diabetes  ejection_fraction  high_blood_pressure  \\\n",
       "age                       0.113457           0.042312             0.095094   \n",
       "anaemia                   0.004375           0.038211             0.040231   \n",
       "creatinine_phosphokinase  0.010825           0.048141             0.067040   \n",
       "diabetes                  1.000000           0.010415             0.019869   \n",
       "ejection_fraction         0.010415           1.000000             0.029327   \n",
       "high_blood_pressure       0.019869           0.029327             1.000000   \n",
       "platelets                 0.085329           0.077699             0.050550   \n",
       "serum_creatinine          0.036826           0.003983             0.025316   \n",
       "serum_sodium              0.058290           0.198782             0.037437   \n",
       "sex                       0.164627           0.146988             0.106227   \n",
       "smoking                   0.160540           0.061032             0.059016   \n",
       "time                      0.038017           0.045391             0.199418   \n",
       "\n",
       "                          platelets  serum_creatinine  serum_sodium       sex  \\\n",
       "age                        0.047062          0.176480      0.077595  0.062955   \n",
       "anaemia                    0.048355          0.079922      0.073648  0.096696   \n",
       "creatinine_phosphokinase   0.024412          0.013957      0.056520  0.079755   \n",
       "diabetes                   0.085329          0.036826      0.058290  0.164627   \n",
       "ejection_fraction          0.077699          0.003983      0.198782  0.146988   \n",
       "high_blood_pressure        0.050550          0.025316      0.037437  0.106227   \n",
       "platelets                  1.000000          0.026894      0.031429  0.118981   \n",
       "serum_creatinine           0.026894          1.000000      0.168982  0.008371   \n",
       "serum_sodium               0.031429          0.168982      1.000000  0.051992   \n",
       "sex                        0.118981          0.008371      0.051992  1.000000   \n",
       "smoking                    0.030165          0.053816      0.006964  0.447479   \n",
       "time                       0.008613          0.215189      0.069028  0.011471   \n",
       "\n",
       "                           smoking      time  \n",
       "age                       0.022594  0.219105  \n",
       "anaemia                   0.110981  0.145386  \n",
       "creatinine_phosphokinase  0.005155  0.009669  \n",
       "diabetes                  0.160540  0.038017  \n",
       "ejection_fraction         0.061032  0.045391  \n",
       "high_blood_pressure       0.059016  0.199418  \n",
       "platelets                 0.030165  0.008613  \n",
       "serum_creatinine          0.053816  0.215189  \n",
       "serum_sodium              0.006964  0.069028  \n",
       "sex                       0.447479  0.011471  \n",
       "smoking                   1.000000  0.014666  \n",
       "time                      0.014666  1.000000  "
      ]
     },
     "execution_count": 11,
     "metadata": {},
     "output_type": "execute_result"
    }
   ],
   "source": [
    "betweencorr"
   ]
  },
  {
   "cell_type": "code",
   "execution_count": 12,
   "metadata": {},
   "outputs": [
    {
     "data": {
      "text/plain": [
       "age                         0.265040\n",
       "anaemia                     0.061752\n",
       "creatinine_phosphokinase    0.070709\n",
       "diabetes                    0.015822\n",
       "ejection_fraction           0.261201\n",
       "high_blood_pressure         0.075451\n",
       "platelets                   0.048986\n",
       "serum_creatinine            0.325494\n",
       "serum_sodium                0.153729\n",
       "sex                         0.000747\n",
       "smoking                     0.005536\n",
       "time                        0.514728\n",
       "dtype: float64"
      ]
     },
     "execution_count": 12,
     "metadata": {},
     "output_type": "execute_result"
    }
   ],
   "source": [
    "outputcorr"
   ]
  },
  {
   "cell_type": "code",
   "execution_count": 13,
   "metadata": {},
   "outputs": [
    {
     "name": "stdout",
     "output_type": "stream",
     "text": [
      "Score without Removing any Features:  0.8133333333333332\n"
     ]
    }
   ],
   "source": [
    "# Computing score for dataset with all of the features\n",
    "scorelist = list()\n",
    "for train_index, test_index in kf.split(xdf_norm):\n",
    "    xtrain, xtest = xdf_norm.iloc[train_index], xdf_norm.iloc[test_index]\n",
    "    ytrain, ytest = ydf_norm.iloc[train_index], ydf_norm.iloc[test_index]\n",
    "    scorelist.append(LogisticRegression().fit(xtrain, ytrain).score(xtest,ytest))\n",
    "allscore = sum(scorelist)/len(scorelist)\n",
    "print('Score without Removing any Features: ', allscore)"
   ]
  },
  {
   "cell_type": "code",
   "execution_count": 14,
   "metadata": {},
   "outputs": [
    {
     "name": "stdout",
     "output_type": "stream",
     "text": [
      "True\n",
      "Featurs with correlation more than Threshold:\n",
      " sex ,  smoking\n",
      "Removing  sex\n",
      "Score After Feature Removal:  0.8\n",
      "Number of Features Removed:  0\n"
     ]
    }
   ],
   "source": [
    "#Setting up a mask to remove 1 from the diagonal of the correlation matrix\n",
    "mask = np.eye(betweencorr.shape[0])*(-1)+1\n",
    "maxdf=betweencorr*mask\n",
    "#Removing features will stop if linear regressor's score doesn't get any better\n",
    "t = True\n",
    "# i is for figuring out how many features got removed\n",
    "i=0\n",
    "while t==True:\n",
    "    print(t)\n",
    "    if maxdf.max().max()>=threshold:\n",
    "        maxwhere=np.where(maxdf.max()==maxdf.max().max())\n",
    "        n = np.argmin(outputcorr[maxwhere[0]])\n",
    "        print('Featurs with correlation more than Threshold:\\n', maxdf.columns[maxwhere[0][0]], ', ', maxdf.columns[maxwhere[0][1]])\n",
    "        d = betweencorr.columns[maxwhere[0][n]]\n",
    "        print('Removing ', d)\n",
    "        #keeping a copy for when the feature shouldn't have been removed\n",
    "        newdf = xdf_norm.copy()\n",
    "        #removing the chosen feature\n",
    "        maxdf.drop(columns=[d],inplace=True)\n",
    "        maxdf.drop(index=[d],inplace=True, axis=1)\n",
    "        outputcorr.drop(index=[d],inplace=True, axis=1)\n",
    "        xdf_norm.drop(columns=[d],inplace=True)\n",
    "        scorelist = list()\n",
    "        for train_index, test_index in kf.split(xdf_norm):\n",
    "            xtrain, xtest = xdf_norm.iloc[train_index], xdf_norm.iloc[test_index]\n",
    "            ytrain, ytest = ydf_norm.iloc[train_index], ydf_norm.iloc[test_index]\n",
    "            scorelist.append(LogisticRegression().fit(xtrain, ytrain).score(xtest,ytest))\n",
    "        score = sum(scorelist)/len(scorelist)\n",
    "        print('Score After Feature Removal: ', score)\n",
    "        #Checking if the score got better\n",
    "        if score<allscore:\n",
    "            #getting the copy\n",
    "            xdf_norm = newdf\n",
    "            t=False\n",
    "        else:\n",
    "            #the new score is gonna be set as the base score\n",
    "            allscore=score\n",
    "            i+=1\n",
    "    else:\n",
    "        t = False\n",
    "print('Number of Features Removed: ', i)"
   ]
  },
  {
   "cell_type": "markdown",
   "metadata": {},
   "source": [
    "# Voting Models"
   ]
  },
  {
   "cell_type": "code",
   "execution_count": 15,
   "metadata": {},
   "outputs": [],
   "source": [
    "from sklearn.ensemble import VotingClassifier\n",
    "from sklearn.naive_bayes import GaussianNB\n",
    "from sklearn.neighbors import KNeighborsClassifier\n",
    "from sklearn.tree import DecisionTreeClassifier\n",
    "from sklearn import svm"
   ]
  },
  {
   "cell_type": "code",
   "execution_count": 16,
   "metadata": {},
   "outputs": [],
   "source": [
    "# I did put KFold Cross Validation in one function here, just for ease of use\n",
    "# Else than the Classifier every other variable is globaly defined\n",
    "def kfoldscore(classifier):\n",
    "    scorelist = list()\n",
    "    for train_index, test_index in kf.split(xdf_norm):\n",
    "        xtrain, xtest = xdf_norm.iloc[train_index], xdf_norm.iloc[test_index]\n",
    "        ytrain, ytest = ydf_norm.iloc[train_index], ydf_norm.iloc[test_index]\n",
    "        scorelist.append(classifier.fit(xtrain, ytrain).score(xtest,ytest))\n",
    "    score = sum(scorelist)/len(scorelist)\n",
    "    return score"
   ]
  },
  {
   "cell_type": "code",
   "execution_count": 17,
   "metadata": {},
   "outputs": [
    {
     "name": "stdout",
     "output_type": "stream",
     "text": [
      "0.79\n"
     ]
    }
   ],
   "source": [
    "#Using three SVMs\n",
    "svm1 = svm.SVC(probability=True, kernel='poly', degree=1)\n",
    "svm2 = svm.SVC(probability=True, kernel='poly', degree=2)\n",
    "svm3 = svm.SVC(probability=True, kernel='poly', degree=3)\n",
    "\n",
    "eclf = VotingClassifier(estimators=[('svm1', svm1), ('svm2', svm2), ('svm3', svm3)],voting='soft')\n",
    "score = kfoldscore(eclf)\n",
    "\n",
    "print(score)"
   ]
  },
  {
   "cell_type": "code",
   "execution_count": 18,
   "metadata": {},
   "outputs": [
    {
     "name": "stdout",
     "output_type": "stream",
     "text": [
      "0.6933333333333334\n"
     ]
    }
   ],
   "source": [
    "# Using three KNNs\n",
    "knn1 = KNeighborsClassifier(n_neighbors=1)\n",
    "knn2 = KNeighborsClassifier(n_neighbors=3)\n",
    "knn3 = KNeighborsClassifier(n_neighbors=5)\n",
    "eclf = VotingClassifier(estimators=[('knn1', knn1), ('knn2', knn2), ('knn3', knn3)],voting='hard')\n",
    "score = kfoldscore(eclf)\n",
    "\n",
    "print(score)"
   ]
  },
  {
   "cell_type": "code",
   "execution_count": 19,
   "metadata": {},
   "outputs": [
    {
     "name": "stdout",
     "output_type": "stream",
     "text": [
      "0.8233333333333333\n"
     ]
    }
   ],
   "source": [
    "# Using three Decision Trees\n",
    "dt1 = DecisionTreeClassifier(max_depth = 3,min_samples_split=10,max_features=4)\n",
    "dt2 = DecisionTreeClassifier(max_depth = 3,min_samples_split=30,max_features=4)\n",
    "dt3 = DecisionTreeClassifier(max_depth = 3,min_samples_split=50,max_features=4)\n",
    "eclf = VotingClassifier(estimators=[('dt1', dt1), ('dt2', dt2), ('dt3', dt3)],voting='soft')\n",
    "score = kfoldscore(eclf)\n",
    "\n",
    "print(score)"
   ]
  },
  {
   "cell_type": "code",
   "execution_count": 24,
   "metadata": {},
   "outputs": [
    {
     "name": "stdout",
     "output_type": "stream",
     "text": [
      "0.8033333333333333\n"
     ]
    }
   ],
   "source": [
    "# Using Logistic Regression, Decision Tree and GaussianNB\n",
    "clf1 = LogisticRegression(random_state=1)\n",
    "clf2 = DecisionTreeClassifier(max_depth = 3,min_samples_split=30,max_features=4)\n",
    "clf3 = GaussianNB()\n",
    "\n",
    "eclf = VotingClassifier(estimators=[('lr', clf1), ('dt', clf2), ('gnb', clf3)],voting='soft')\n",
    "score = kfoldscore(eclf)\n",
    "\n",
    "print(score)"
   ]
  },
  {
   "cell_type": "markdown",
   "metadata": {},
   "source": [
    "# Base Models"
   ]
  },
  {
   "cell_type": "code",
   "execution_count": 21,
   "metadata": {},
   "outputs": [
    {
     "name": "stdout",
     "output_type": "stream",
     "text": [
      "Decision Tree 1 Score:  0.7766666666666667\n"
     ]
    }
   ],
   "source": [
    "# Decision Tree 1\n",
    "score = kfoldscore(dt1)\n",
    "print('Decision Tree 1 Score: ', score)"
   ]
  },
  {
   "cell_type": "code",
   "execution_count": 22,
   "metadata": {},
   "outputs": [
    {
     "name": "stdout",
     "output_type": "stream",
     "text": [
      "Decision Tree 2 Score:  0.7166666666666666\n"
     ]
    }
   ],
   "source": [
    "# Decision Tree 2\n",
    "score = kfoldscore(dt2)\n",
    "print('Decision Tree 2 Score: ',score)"
   ]
  },
  {
   "cell_type": "code",
   "execution_count": 23,
   "metadata": {},
   "outputs": [
    {
     "name": "stdout",
     "output_type": "stream",
     "text": [
      "Decision Tree 3 Score:  0.7933333333333332\n"
     ]
    }
   ],
   "source": [
    "# Decision Tree 3\n",
    "score = kfoldscore(dt3)\n",
    "print('Decision Tree 3 Score: ',score)"
   ]
  }
 ],
 "metadata": {
  "kernelspec": {
   "display_name": "Python 3",
   "language": "python",
   "name": "python3"
  },
  "language_info": {
   "codemirror_mode": {
    "name": "ipython",
    "version": 3
   },
   "file_extension": ".py",
   "mimetype": "text/x-python",
   "name": "python",
   "nbconvert_exporter": "python",
   "pygments_lexer": "ipython3",
   "version": "3.6.5"
  }
 },
 "nbformat": 4,
 "nbformat_minor": 2
}
