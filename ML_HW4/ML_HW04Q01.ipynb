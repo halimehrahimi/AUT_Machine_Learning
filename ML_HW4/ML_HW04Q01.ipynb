{
 "cells": [
  {
   "cell_type": "code",
   "execution_count": 1,
   "metadata": {},
   "outputs": [],
   "source": [
    "import numpy as np\n",
    "import pandas as pd\n",
    "from matplotlib import pyplot as plt\n",
    "from sklearn import svm\n",
    "from sklearn.model_selection import train_test_split\n",
    "from sklearn.metrics import f1_score\n",
    "from sklearn.metrics import accuracy_score\n",
    "from sklearn.preprocessing import normalize"
   ]
  },
  {
   "cell_type": "markdown",
   "metadata": {},
   "source": [
    "# Prepare Data"
   ]
  },
  {
   "cell_type": "code",
   "execution_count": 2,
   "metadata": {},
   "outputs": [
    {
     "data": {
      "text/html": [
       "<div>\n",
       "<style scoped>\n",
       "    .dataframe tbody tr th:only-of-type {\n",
       "        vertical-align: middle;\n",
       "    }\n",
       "\n",
       "    .dataframe tbody tr th {\n",
       "        vertical-align: top;\n",
       "    }\n",
       "\n",
       "    .dataframe thead th {\n",
       "        text-align: right;\n",
       "    }\n",
       "</style>\n",
       "<table border=\"1\" class=\"dataframe\">\n",
       "  <thead>\n",
       "    <tr style=\"text-align: right;\">\n",
       "      <th></th>\n",
       "      <th>name</th>\n",
       "      <th>MDVP:Fo(Hz)</th>\n",
       "      <th>MDVP:Fhi(Hz)</th>\n",
       "      <th>MDVP:Flo(Hz)</th>\n",
       "      <th>MDVP:Jitter(%)</th>\n",
       "      <th>MDVP:Jitter(Abs)</th>\n",
       "      <th>MDVP:RAP</th>\n",
       "      <th>MDVP:PPQ</th>\n",
       "      <th>Jitter:DDP</th>\n",
       "      <th>MDVP:Shimmer</th>\n",
       "      <th>...</th>\n",
       "      <th>Shimmer:DDA</th>\n",
       "      <th>NHR</th>\n",
       "      <th>HNR</th>\n",
       "      <th>status</th>\n",
       "      <th>RPDE</th>\n",
       "      <th>DFA</th>\n",
       "      <th>spread1</th>\n",
       "      <th>spread2</th>\n",
       "      <th>D2</th>\n",
       "      <th>PPE</th>\n",
       "    </tr>\n",
       "  </thead>\n",
       "  <tbody>\n",
       "    <tr>\n",
       "      <th>0</th>\n",
       "      <td>phon_R01_S01_4</td>\n",
       "      <td>116.676</td>\n",
       "      <td>137.871</td>\n",
       "      <td>111.366</td>\n",
       "      <td>0.00997</td>\n",
       "      <td>0.00009</td>\n",
       "      <td>0.00502</td>\n",
       "      <td>0.00698</td>\n",
       "      <td>0.01505</td>\n",
       "      <td>0.05492</td>\n",
       "      <td>...</td>\n",
       "      <td>0.08771</td>\n",
       "      <td>0.01353</td>\n",
       "      <td>20.644</td>\n",
       "      <td>1</td>\n",
       "      <td>0.434969</td>\n",
       "      <td>0.819235</td>\n",
       "      <td>-4.117501</td>\n",
       "      <td>0.334147</td>\n",
       "      <td>2.405554</td>\n",
       "      <td>0.368975</td>\n",
       "    </tr>\n",
       "    <tr>\n",
       "      <th>1</th>\n",
       "      <td>phon_R01_S20_2</td>\n",
       "      <td>100.770</td>\n",
       "      <td>115.697</td>\n",
       "      <td>85.545</td>\n",
       "      <td>0.01038</td>\n",
       "      <td>0.00010</td>\n",
       "      <td>0.00622</td>\n",
       "      <td>0.00576</td>\n",
       "      <td>0.01865</td>\n",
       "      <td>0.03121</td>\n",
       "      <td>...</td>\n",
       "      <td>0.05320</td>\n",
       "      <td>0.02220</td>\n",
       "      <td>19.200</td>\n",
       "      <td>1</td>\n",
       "      <td>0.594387</td>\n",
       "      <td>0.790117</td>\n",
       "      <td>-4.913885</td>\n",
       "      <td>0.265699</td>\n",
       "      <td>2.398422</td>\n",
       "      <td>0.277948</td>\n",
       "    </tr>\n",
       "    <tr>\n",
       "      <th>2</th>\n",
       "      <td>phon_R01_S17_4</td>\n",
       "      <td>228.832</td>\n",
       "      <td>234.619</td>\n",
       "      <td>223.634</td>\n",
       "      <td>0.00296</td>\n",
       "      <td>0.00001</td>\n",
       "      <td>0.00175</td>\n",
       "      <td>0.00155</td>\n",
       "      <td>0.00526</td>\n",
       "      <td>0.01644</td>\n",
       "      <td>...</td>\n",
       "      <td>0.02647</td>\n",
       "      <td>0.00351</td>\n",
       "      <td>25.964</td>\n",
       "      <td>0</td>\n",
       "      <td>0.256570</td>\n",
       "      <td>0.683296</td>\n",
       "      <td>-7.245620</td>\n",
       "      <td>0.018689</td>\n",
       "      <td>2.498224</td>\n",
       "      <td>0.093534</td>\n",
       "    </tr>\n",
       "    <tr>\n",
       "      <th>3</th>\n",
       "      <td>phon_R01_S13_1</td>\n",
       "      <td>122.188</td>\n",
       "      <td>128.611</td>\n",
       "      <td>115.765</td>\n",
       "      <td>0.00524</td>\n",
       "      <td>0.00004</td>\n",
       "      <td>0.00169</td>\n",
       "      <td>0.00203</td>\n",
       "      <td>0.00507</td>\n",
       "      <td>0.01613</td>\n",
       "      <td>...</td>\n",
       "      <td>0.02566</td>\n",
       "      <td>0.00839</td>\n",
       "      <td>23.162</td>\n",
       "      <td>0</td>\n",
       "      <td>0.579597</td>\n",
       "      <td>0.733659</td>\n",
       "      <td>-6.439398</td>\n",
       "      <td>0.266392</td>\n",
       "      <td>2.079922</td>\n",
       "      <td>0.133867</td>\n",
       "    </tr>\n",
       "    <tr>\n",
       "      <th>4</th>\n",
       "      <td>phon_R01_S02_1</td>\n",
       "      <td>120.267</td>\n",
       "      <td>137.244</td>\n",
       "      <td>114.820</td>\n",
       "      <td>0.00333</td>\n",
       "      <td>0.00003</td>\n",
       "      <td>0.00155</td>\n",
       "      <td>0.00202</td>\n",
       "      <td>0.00466</td>\n",
       "      <td>0.01608</td>\n",
       "      <td>...</td>\n",
       "      <td>0.02337</td>\n",
       "      <td>0.00607</td>\n",
       "      <td>24.886</td>\n",
       "      <td>1</td>\n",
       "      <td>0.596040</td>\n",
       "      <td>0.764112</td>\n",
       "      <td>-5.634322</td>\n",
       "      <td>0.257682</td>\n",
       "      <td>1.854785</td>\n",
       "      <td>0.211756</td>\n",
       "    </tr>\n",
       "  </tbody>\n",
       "</table>\n",
       "<p>5 rows × 24 columns</p>\n",
       "</div>"
      ],
      "text/plain": [
       "             name  MDVP:Fo(Hz)  MDVP:Fhi(Hz)  MDVP:Flo(Hz)  MDVP:Jitter(%)  \\\n",
       "0  phon_R01_S01_4      116.676       137.871       111.366         0.00997   \n",
       "1  phon_R01_S20_2      100.770       115.697        85.545         0.01038   \n",
       "2  phon_R01_S17_4      228.832       234.619       223.634         0.00296   \n",
       "3  phon_R01_S13_1      122.188       128.611       115.765         0.00524   \n",
       "4  phon_R01_S02_1      120.267       137.244       114.820         0.00333   \n",
       "\n",
       "   MDVP:Jitter(Abs)  MDVP:RAP  MDVP:PPQ  Jitter:DDP  MDVP:Shimmer  ...  \\\n",
       "0           0.00009   0.00502   0.00698     0.01505       0.05492  ...   \n",
       "1           0.00010   0.00622   0.00576     0.01865       0.03121  ...   \n",
       "2           0.00001   0.00175   0.00155     0.00526       0.01644  ...   \n",
       "3           0.00004   0.00169   0.00203     0.00507       0.01613  ...   \n",
       "4           0.00003   0.00155   0.00202     0.00466       0.01608  ...   \n",
       "\n",
       "   Shimmer:DDA      NHR     HNR  status      RPDE       DFA   spread1  \\\n",
       "0      0.08771  0.01353  20.644       1  0.434969  0.819235 -4.117501   \n",
       "1      0.05320  0.02220  19.200       1  0.594387  0.790117 -4.913885   \n",
       "2      0.02647  0.00351  25.964       0  0.256570  0.683296 -7.245620   \n",
       "3      0.02566  0.00839  23.162       0  0.579597  0.733659 -6.439398   \n",
       "4      0.02337  0.00607  24.886       1  0.596040  0.764112 -5.634322   \n",
       "\n",
       "    spread2        D2       PPE  \n",
       "0  0.334147  2.405554  0.368975  \n",
       "1  0.265699  2.398422  0.277948  \n",
       "2  0.018689  2.498224  0.093534  \n",
       "3  0.266392  2.079922  0.133867  \n",
       "4  0.257682  1.854785  0.211756  \n",
       "\n",
       "[5 rows x 24 columns]"
      ]
     },
     "execution_count": 2,
     "metadata": {},
     "output_type": "execute_result"
    }
   ],
   "source": [
    "df = pd.read_csv(\"F://Uni/991/Machine_Learning/ML_HW4/Datasets/1/parkinsons.data\")\n",
    "df = df.sample(frac=1 ,replace=False, axis = 0).reset_index(drop=True)\n",
    "df.head()"
   ]
  },
  {
   "cell_type": "code",
   "execution_count": 3,
   "metadata": {},
   "outputs": [],
   "source": [
    "x = df.drop(columns=['name', 'status'])\n",
    "#x = normalize(x)\n",
    "y = df['status']"
   ]
  },
  {
   "cell_type": "code",
   "execution_count": 4,
   "metadata": {},
   "outputs": [
    {
     "name": "stdout",
     "output_type": "stream",
     "text": [
      "(array([], dtype=int64), array([], dtype=int64))\n"
     ]
    }
   ],
   "source": [
    "print(np.where(x==np.nan))"
   ]
  },
  {
   "cell_type": "code",
   "execution_count": 5,
   "metadata": {},
   "outputs": [],
   "source": [
    "x_train, x_test, y_train, y_test = train_test_split(x, y, test_size = 0.30)"
   ]
  },
  {
   "cell_type": "markdown",
   "metadata": {},
   "source": [
    "# Linear Kernel"
   ]
  },
  {
   "cell_type": "code",
   "execution_count": 7,
   "metadata": {},
   "outputs": [
    {
     "data": {
      "text/plain": [
       "SVC(kernel='linear')"
      ]
     },
     "execution_count": 7,
     "metadata": {},
     "output_type": "execute_result"
    }
   ],
   "source": [
    "linear_svc = svm.SVC(kernel='linear')\n",
    "linear_svc.fit(x_train, y_train)"
   ]
  },
  {
   "cell_type": "code",
   "execution_count": 8,
   "metadata": {},
   "outputs": [],
   "source": [
    "y_pred = linear_svc.predict(x_test)"
   ]
  },
  {
   "cell_type": "code",
   "execution_count": 9,
   "metadata": {},
   "outputs": [
    {
     "name": "stdout",
     "output_type": "stream",
     "text": [
      "Linear SVM Accuracy:  0.8813559322033898\n",
      "Linear SVM F1-Measure:  [0.77419355 0.91954023]\n"
     ]
    }
   ],
   "source": [
    "acc = accuracy_score(y_test, y_pred)\n",
    "f1s = f1_score(y_test, y_pred, average=None)\n",
    "\n",
    "print('Linear SVM Accuracy: ', acc)\n",
    "print('Linear SVM F1-Measure: ', f1s)"
   ]
  },
  {
   "cell_type": "markdown",
   "metadata": {},
   "source": [
    "# Polynomial Kernel"
   ]
  },
  {
   "cell_type": "code",
   "execution_count": 30,
   "metadata": {},
   "outputs": [
    {
     "name": "stdout",
     "output_type": "stream",
     "text": [
      "Polynomial SVM Accuracy:  0.7627118644067796 for Degree=  3 for r=  0\n",
      "Polynomial SVM F1-Measure:  [0.46153846 0.84782609] for Degree=  3 for r=  0\n",
      "---------------------------------------------------------------\n",
      "Polynomial SVM Accuracy:  0.7627118644067796 for Degree=  3 for r=  3\n",
      "Polynomial SVM F1-Measure:  [0.46153846 0.84782609] for Degree=  3 for r=  3\n",
      "---------------------------------------------------------------\n",
      "Polynomial SVM Accuracy:  0.7627118644067796 for Degree=  3 for r=  6\n",
      "Polynomial SVM F1-Measure:  [0.46153846 0.84782609] for Degree=  3 for r=  6\n",
      "---------------------------------------------------------------\n",
      "Polynomial SVM Accuracy:  0.7627118644067796 for Degree=  3 for r=  9\n",
      "Polynomial SVM F1-Measure:  [0.46153846 0.84782609] for Degree=  3 for r=  9\n",
      "---------------------------------------------------------------\n",
      "Polynomial SVM Accuracy:  0.7627118644067796 for Degree=  6 for r=  0\n",
      "Polynomial SVM F1-Measure:  [0.41666667 0.85106383] for Degree=  6 for r=  0\n",
      "---------------------------------------------------------------\n",
      "Polynomial SVM Accuracy:  0.864406779661017 for Degree=  6 for r=  3\n",
      "Polynomial SVM F1-Measure:  [0.73333333 0.90909091] for Degree=  6 for r=  3\n",
      "---------------------------------------------------------------\n",
      "Polynomial SVM Accuracy:  0.864406779661017 for Degree=  6 for r=  6\n",
      "Polynomial SVM F1-Measure:  [0.76470588 0.9047619 ] for Degree=  6 for r=  6\n",
      "---------------------------------------------------------------\n",
      "Polynomial SVM Accuracy:  0.847457627118644 for Degree=  6 for r=  9\n",
      "Polynomial SVM F1-Measure:  [0.76923077 0.88607595] for Degree=  6 for r=  9\n",
      "---------------------------------------------------------------\n",
      "Polynomial SVM Accuracy:  0.7457627118644068 for Degree=  7 for r=  0\n",
      "Polynomial SVM F1-Measure:  [0.34782609 0.84210526] for Degree=  7 for r=  0\n",
      "---------------------------------------------------------------\n",
      "Polynomial SVM Accuracy:  0.864406779661017 for Degree=  7 for r=  3\n",
      "Polynomial SVM F1-Measure:  [0.75       0.90697674] for Degree=  7 for r=  3\n",
      "---------------------------------------------------------------\n",
      "Polynomial SVM Accuracy:  0.8983050847457628 for Degree=  7 for r=  6\n",
      "Polynomial SVM F1-Measure:  [0.84210526 0.925     ] for Degree=  7 for r=  6\n",
      "---------------------------------------------------------------\n",
      "Polynomial SVM Accuracy:  0.8813559322033898 for Degree=  7 for r=  9\n",
      "Polynomial SVM F1-Measure:  [0.82051282 0.91139241] for Degree=  7 for r=  9\n",
      "---------------------------------------------------------------\n",
      "Polynomial SVM Accuracy:  0.7288135593220338 for Degree=  9 for r=  0\n",
      "Polynomial SVM F1-Measure:  [0.27272727 0.83333333] for Degree=  9 for r=  0\n",
      "---------------------------------------------------------------\n",
      "Polynomial SVM Accuracy:  0.8983050847457628 for Degree=  9 for r=  3\n",
      "Polynomial SVM F1-Measure:  [0.84210526 0.925     ] for Degree=  9 for r=  3\n",
      "---------------------------------------------------------------\n",
      "Polynomial SVM Accuracy:  0.8813559322033898 for Degree=  9 for r=  6\n",
      "Polynomial SVM F1-Measure:  [0.82051282 0.91139241] for Degree=  9 for r=  6\n",
      "---------------------------------------------------------------\n",
      "Polynomial SVM Accuracy:  0.847457627118644 for Degree=  9 for r=  9\n",
      "Polynomial SVM F1-Measure:  [0.7804878  0.88311688] for Degree=  9 for r=  9\n",
      "---------------------------------------------------------------\n",
      "Polynomial SVM Accuracy:  0.7796610169491526 for Degree=  12 for r=  0\n",
      "Polynomial SVM F1-Measure:  [0.48       0.86021505] for Degree=  12 for r=  0\n",
      "---------------------------------------------------------------\n",
      "Polynomial SVM Accuracy:  0.8305084745762712 for Degree=  12 for r=  3\n",
      "Polynomial SVM F1-Measure:  [0.75       0.87179487] for Degree=  12 for r=  3\n",
      "---------------------------------------------------------------\n",
      "Polynomial SVM Accuracy:  0.8305084745762712 for Degree=  12 for r=  6\n",
      "Polynomial SVM F1-Measure:  [0.75       0.87179487] for Degree=  12 for r=  6\n",
      "---------------------------------------------------------------\n",
      "Polynomial SVM Accuracy:  0.847457627118644 for Degree=  12 for r=  9\n",
      "Polynomial SVM F1-Measure:  [0.7804878  0.88311688] for Degree=  12 for r=  9\n",
      "---------------------------------------------------------------\n"
     ]
    }
   ],
   "source": [
    "degree = list([3,6,7,9,12])\n",
    "coef0list = list([0,3,6,9])\n",
    "f10list = np.zeros((len(degree),len(coef0list)))\n",
    "f11list = np.zeros((len(degree),len(coef0list)))\n",
    "acclist = np.zeros((len(degree),len(coef0list)))\n",
    "i,j=0,0\n",
    "for d in degree:\n",
    "    for c in coef0list:\n",
    "        polynomial_svc = svm.SVC(kernel='poly', degree=d, coef0=c)\n",
    "        polynomial_svc.fit(x_train, y_train)\n",
    "        y_pred = polynomial_svc.predict(x_test)\n",
    "        acc = accuracy_score(y_test, y_pred)\n",
    "        f1s = f1_score(y_test, y_pred, average=None)\n",
    "        f10list[i,j]=f1s[0]\n",
    "        f11list[i,j]=f1s[1]\n",
    "        acclist[i,j]=acc\n",
    "        j+=1\n",
    "        print('Polynomial SVM Accuracy: ', acc, 'for Degree= ', d, 'for r= ', c)\n",
    "        print('Polynomial SVM F1-Measure: ', f1s, 'for Degree= ', d, 'for r= ', c)\n",
    "        print('---------------------------------------------------------------')\n",
    "    i+=1\n",
    "    j=0"
   ]
  },
  {
   "cell_type": "code",
   "execution_count": 31,
   "metadata": {},
   "outputs": [
    {
     "data": {
      "text/plain": [
       "<matplotlib.legend.Legend at 0x1fb233c3438>"
      ]
     },
     "execution_count": 31,
     "metadata": {},
     "output_type": "execute_result"
    },
    {
     "data": {
      "image/png": "[encoded data removed]",
      "text/plain": [
       "<Figure size 432x288 with 1 Axes>"
      ]
     },
     "metadata": {},
     "output_type": "display_data"
    }
   ],
   "source": [
    "plt.plot(degree, f10list[:,3],label='F1-Measure0-Degree')\n",
    "plt.plot(degree, f11list[:,3],label='F1-Measure1-Degree')\n",
    "plt.plot(degree, acclist[:,3],label='Accuracy-Degree')\n",
    "plt.legend()\n",
    "plt.show()"
   ]
  },
  {
   "cell_type": "code",
   "execution_count": 32,
   "metadata": {},
   "outputs": [
    {
     "data": {
      "text/plain": [
       "<matplotlib.legend.Legend at 0x1fb23433940>"
      ]
     },
     "execution_count": 32,
     "metadata": {},
     "output_type": "execute_result"
    },
    {
     "data": {
      "image/png": "[encoded data removed]",
      "text/plain": [
       "<Figure size 432x288 with 1 Axes>"
      ]
     },
     "metadata": {},
     "output_type": "display_data"
    }
   ],
   "source": [
    "plt.plot(coef0list, f10list[3,:],label='F1-Measure0-R')\n",
    "plt.plot(coef0list, f11list[3,:],label='F1-Measure1-R')\n",
    "plt.plot(coef0list, acclist[3,:],label='Accuracy-R')\n",
    "plt.legend()\n",
    "plt.show()"
   ]
  },
  {
   "cell_type": "markdown",
   "metadata": {},
   "source": [
    "# RBF Kernel"
   ]
  },
  {
   "cell_type": "code",
   "execution_count": 24,
   "metadata": {},
   "outputs": [
    {
     "name": "stdout",
     "output_type": "stream",
     "text": [
      "RBF SVM Accuracy:  0.6779661016949152 for Gamma=  1e-06\n",
      "RBF SVM F1-Measure:  [0.         0.80808081] for Gamma=  1e-06\n",
      "---------------------------------------------------------------\n",
      "RBF SVM Accuracy:  0.7457627118644068 for Gamma=  0.0001\n",
      "RBF SVM F1-Measure:  [0.34782609 0.84210526] for Gamma=  0.0001\n",
      "---------------------------------------------------------------\n",
      "RBF SVM Accuracy:  0.7457627118644068 for Gamma=  0.001\n",
      "RBF SVM F1-Measure:  [0.34782609 0.84210526] for Gamma=  0.001\n",
      "---------------------------------------------------------------\n",
      "RBF SVM Accuracy:  0.7966101694915254 for Gamma=  0.003\n",
      "RBF SVM F1-Measure:  [0.53846154 0.86956522] for Gamma=  0.003\n",
      "---------------------------------------------------------------\n",
      "RBF SVM Accuracy:  0.7966101694915254 for Gamma=  0.005\n",
      "RBF SVM F1-Measure:  [0.53846154 0.86956522] for Gamma=  0.005\n",
      "---------------------------------------------------------------\n",
      "RBF SVM Accuracy:  0.7796610169491526 for Gamma=  0.007\n",
      "RBF SVM F1-Measure:  [0.48       0.86021505] for Gamma=  0.007\n",
      "---------------------------------------------------------------\n",
      "RBF SVM Accuracy:  0.7796610169491526 for Gamma=  0.01\n",
      "RBF SVM F1-Measure:  [0.48       0.86021505] for Gamma=  0.01\n",
      "---------------------------------------------------------------\n",
      "RBF SVM Accuracy:  0.6949152542372882 for Gamma=  0.1\n",
      "RBF SVM F1-Measure:  [0.1        0.81632653] for Gamma=  0.1\n",
      "---------------------------------------------------------------\n"
     ]
    }
   ],
   "source": [
    "gammalist = list([1e-6, 1e-4,1e-3,3e-3,5e-3,7e-3, 1e-2, 1e-1])\n",
    "f11list,f10list,acclist=list(),list(),list()\n",
    "for g in gammalist:\n",
    "    rbf_svc = svm.SVC(kernel='rbf', gamma=g)\n",
    "    rbf_svc.fit(x_train, y_train)\n",
    "    y_pred = rbf_svc.predict(x_test)\n",
    "    acc = accuracy_score(y_test, y_pred)\n",
    "    f1s = f1_score(y_test, y_pred, average=None)\n",
    "    f11list.append(f1s[1])\n",
    "    f10list.append(f1s[0])\n",
    "    acclist.append(acc)\n",
    "    print('RBF SVM Accuracy: ', acc, 'for Gamma= ', g)\n",
    "    print('RBF SVM F1-Measure: ', f1s, 'for Gamma= ', g)\n",
    "    print('---------------------------------------------------------------')"
   ]
  },
  {
   "cell_type": "code",
   "execution_count": 25,
   "metadata": {},
   "outputs": [
    {
     "data": {
      "text/plain": [
       "<matplotlib.legend.Legend at 0x1fb230914a8>"
      ]
     },
     "execution_count": 25,
     "metadata": {},
     "output_type": "execute_result"
    },
    {
     "data": {
      "image/png": "[encoded data removed]",
      "text/plain": [
       "<Figure size 432x288 with 1 Axes>"
      ]
     },
     "metadata": {},
     "output_type": "display_data"
    }
   ],
   "source": [
    "plt.plot(gammalist, f10list,label='F1-Measure0')\n",
    "plt.plot(gammalist, f11list,label='F1-Measure1')\n",
    "plt.plot(gammalist, acclist,label='Accuracy')\n",
    "plt.legend()\n",
    "plt.show()"
   ]
  },
  {
   "cell_type": "markdown",
   "metadata": {},
   "source": [
    "# Sigmoid Kernel"
   ]
  },
  {
   "cell_type": "code",
   "execution_count": 28,
   "metadata": {},
   "outputs": [
    {
     "name": "stdout",
     "output_type": "stream",
     "text": [
      "Sigmoid SVM Accuracy:  0.5423728813559322 for r=  -1000\n",
      "Sigmoid SVM F1-Measure:  [0.        0.7032967] for r=  -1000\n",
      "---------------------------------------------------------------\n",
      "Sigmoid SVM Accuracy:  0.559322033898305 for r=  -1100\n",
      "Sigmoid SVM F1-Measure:  [0.23529412 0.69047619] for r=  -1100\n",
      "---------------------------------------------------------------\n",
      "Sigmoid SVM Accuracy:  0.6610169491525424 for r=  -1200\n",
      "Sigmoid SVM F1-Measure:  [0.47368421 0.75      ] for r=  -1200\n",
      "---------------------------------------------------------------\n",
      "Sigmoid SVM Accuracy:  0.6779661016949152 for r=  -1250\n",
      "Sigmoid SVM F1-Measure:  [0.48648649 0.7654321 ] for r=  -1250\n",
      "---------------------------------------------------------------\n",
      "Sigmoid SVM Accuracy:  0.711864406779661 for r=  -1300\n",
      "Sigmoid SVM F1-Measure:  [0.51428571 0.79518072] for r=  -1300\n",
      "---------------------------------------------------------------\n",
      "Sigmoid SVM Accuracy:  0.7288135593220338 for r=  -1350\n",
      "Sigmoid SVM F1-Measure:  [0.55555556 0.80487805] for r=  -1350\n",
      "---------------------------------------------------------------\n",
      "Sigmoid SVM Accuracy:  0.7457627118644068 for r=  -1375\n",
      "Sigmoid SVM F1-Measure:  [0.57142857 0.81927711] for r=  -1375\n",
      "---------------------------------------------------------------\n",
      "Sigmoid SVM Accuracy:  0.711864406779661 for r=  -1400\n",
      "Sigmoid SVM F1-Measure:  [0.26086957 0.82105263] for r=  -1400\n",
      "---------------------------------------------------------------\n",
      "Sigmoid SVM Accuracy:  0.7288135593220338 for r=  -1500\n",
      "Sigmoid SVM F1-Measure:  [0.33333333 0.82978723] for r=  -1500\n",
      "---------------------------------------------------------------\n",
      "Sigmoid SVM Accuracy:  0.6949152542372882 for r=  -1600\n",
      "Sigmoid SVM F1-Measure:  [0.18181818 0.8125    ] for r=  -1600\n",
      "---------------------------------------------------------------\n"
     ]
    }
   ],
   "source": [
    "coef0list = list([-1000,-1100, -1200,-1250,-1300,-1350,-1375,-1400, -1500, -1600])\n",
    "f11list,f10list,acclist=list(),list(),list()\n",
    "for c in coef0list:\n",
    "    sigmoid_svc = svm.SVC(kernel='sigmoid', gamma=0.01, coef0=c)\n",
    "    sigmoid_svc.fit(x_train, y_train)\n",
    "    y_pred = sigmoid_svc.predict(x_test)\n",
    "    acc = accuracy_score(y_test, y_pred)\n",
    "    f1s = f1_score(y_test, y_pred, average=None)\n",
    "    f11list.append(f1s[1])\n",
    "    f10list.append(f1s[0])\n",
    "    acclist.append(acc)\n",
    "    print('Sigmoid SVM Accuracy: ', acc, 'for r= ', c)\n",
    "    print('Sigmoid SVM F1-Measure: ', f1s, 'for r= ', c)\n",
    "    print('---------------------------------------------------------------')    "
   ]
  },
  {
   "cell_type": "code",
   "execution_count": 29,
   "metadata": {},
   "outputs": [
    {
     "data": {
      "image/png": "[encoded data removed]",
      "text/plain": [
       "<Figure size 432x288 with 1 Axes>"
      ]
     },
     "metadata": {},
     "output_type": "display_data"
    }
   ],
   "source": [
    "plt.plot(coef0list, f10list,label='F1-Measure0')\n",
    "plt.plot(coef0list, f11list,label='F1-Measure1')\n",
    "plt.plot(coef0list, acclist,label='Accuracy')\n",
    "plt.legend()\n",
    "plt.show()"
   ]
  },
  {
   "cell_type": "code",
   "execution_count": null,
   "metadata": {},
   "outputs": [],
   "source": []
  }
 ],
 "metadata": {
  "kernelspec": {
   "display_name": "Python 3",
   "language": "python",
   "name": "python3"
  },
  "language_info": {
   "codemirror_mode": {
    "name": "ipython",
    "version": 3
   },
   "file_extension": ".py",
   "mimetype": "text/x-python",
   "name": "python",
   "nbconvert_exporter": "python",
   "pygments_lexer": "ipython3",
   "version": "3.6.5"
  }
 },
 "nbformat": 4,
 "nbformat_minor": 2
}
